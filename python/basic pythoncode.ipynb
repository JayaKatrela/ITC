{
 "cells": [
  {
   "cell_type": "code",
   "execution_count": 17,
   "metadata": {},
   "outputs": [
    {
     "name": "stdout",
     "output_type": "stream",
     "text": [
      "Sorry not intrested\n"
     ]
    }
   ],
   "source": [
    "course= input(\"Enter the course name\")\n",
    "if course == \"python\":\n",
    "    print(\"Wellcome to python\")\n",
    "else:\n",
    "    print(\"Sorry not intrested\")    "
   ]
  },
  {
   "cell_type": "code",
   "execution_count": 29,
   "metadata": {},
   "outputs": [
    {
     "name": "stdout",
     "output_type": "stream",
     "text": [
      "addition: 9\n",
      "sub: {-1}\n",
      "20\n"
     ]
    }
   ],
   "source": [
    "\n",
    "a=4\n",
    "b=5\n",
    "print(f\"addition: {a+b}\")\n",
    "print(\"sub:\", {a-b})\n",
    "print(a*b)"
   ]
  },
  {
   "cell_type": "code",
   "execution_count": 30,
   "metadata": {},
   "outputs": [
    {
     "name": "stdout",
     "output_type": "stream",
     "text": [
      "1250\n"
     ]
    }
   ],
   "source": [
    "width=50\n",
    "height=25\n",
    "len=width*height\n",
    "print(len)\n"
   ]
  },
  {
   "cell_type": "code",
   "execution_count": 38,
   "metadata": {},
   "outputs": [
    {
     "data": {
      "text/plain": [
       "113.0625"
      ]
     },
     "execution_count": 38,
     "metadata": {},
     "output_type": "execute_result"
    }
   ],
   "source": [
    "tax=12.5/100\n",
    "price=100.50\n",
    "x=price*tax\n",
    "price+x\n"
   ]
  },
  {
   "cell_type": "code",
   "execution_count": 40,
   "metadata": {},
   "outputs": [
    {
     "data": {
      "text/plain": [
       "'n'"
      ]
     },
     "execution_count": 40,
     "metadata": {},
     "output_type": "execute_result"
    }
   ],
   "source": [
    "word=\"python\"\n",
    "word[0]\n",
    "word[-1]"
   ]
  },
  {
   "cell_type": "code",
   "execution_count": 41,
   "metadata": {},
   "outputs": [
    {
     "data": {
      "text/plain": [
       "[9, 16, 25]"
      ]
     },
     "execution_count": 41,
     "metadata": {},
     "output_type": "execute_result"
    }
   ],
   "source": [
    "square=[1,4,9,16,25]\n",
    "square[-3:]"
   ]
  },
  {
   "cell_type": "code",
   "execution_count": 46,
   "metadata": {},
   "outputs": [
    {
     "name": "stdout",
     "output_type": "stream",
     "text": [
      "0\n",
      "1\n",
      "1\n",
      "2\n",
      "3\n",
      "5\n",
      "8\n"
     ]
    }
   ],
   "source": [
    "a,b=0,1\n",
    "while a<10:\n",
    "    print(a)\n",
    "    a,b=b,a+b\n",
    "    "
   ]
  },
  {
   "cell_type": "code",
   "execution_count": 48,
   "metadata": {},
   "outputs": [
    {
     "name": "stdout",
     "output_type": "stream",
     "text": [
      "Cool Weather enjoy it\n"
     ]
    }
   ],
   "source": [
    "temp=int(input(\"Please enter the temp\"))\n",
    "if temp >35:\n",
    "    print(\"The weather is too hot\")\n",
    "elif temp >=20:\n",
    "    print(\"The weather is normal\")\n",
    "else:\n",
    "    print(\"Cool Weather enjoy it\")        \n"
   ]
  },
  {
   "cell_type": "code",
   "execution_count": 54,
   "metadata": {},
   "outputs": [
    {
     "name": "stdout",
     "output_type": "stream",
     "text": [
      "jaya\n",
      "manu\n",
      "dhara\n",
      "saba\n"
     ]
    }
   ],
   "source": [
    "words=[\"jaya\",\"manu\",\"dhara\",\"saba\"]\n",
    "for w in words:\n",
    "    print(w)\n",
    "    "
   ]
  },
  {
   "cell_type": "code",
   "execution_count": 57,
   "metadata": {},
   "outputs": [
    {
     "name": "stdout",
     "output_type": "stream",
     "text": [
      "{'Hans': 'active', '景太郎': 'inactive'}\n",
      "{'Hans': 'active'}\n"
     ]
    }
   ],
   "source": [
    "users = {'Hans': 'active', 'Éléonore': 'inactive', '景太郎': 'inactive'}\n",
    "\n",
    "# Strategy:  Iterate over a copy\n",
    "for user, status in users.copy().items():\n",
    "    if status == 'inactive':\n",
    "        del users[user]\n",
    "        print(users)"
   ]
  },
  {
   "cell_type": "code",
   "execution_count": 63,
   "metadata": {},
   "outputs": [
    {
     "name": "stdout",
     "output_type": "stream",
     "text": [
      "{'Hans': 'active'}\n"
     ]
    }
   ],
   "source": [
    "users = {'Hans': 'active', 'Éléonore': 'inactive', '景太郎': 'inactive'}\n",
    "\n",
    "# Strategy:  Iterate over a copy\n",
    "for user, status in users.copy().items():\n",
    "    if status == 'inactive':\n",
    "        del users[user]\n",
    "print(users)"
   ]
  },
  {
   "cell_type": "code",
   "execution_count": 64,
   "metadata": {},
   "outputs": [
    {
     "name": "stdout",
     "output_type": "stream",
     "text": [
      "0\n",
      "1\n",
      "2\n",
      "3\n",
      "4\n",
      "5\n",
      "6\n",
      "7\n",
      "8\n",
      "9\n"
     ]
    }
   ],
   "source": [
    "for i in range(10):\n",
    "    print(i)"
   ]
  },
  {
   "cell_type": "code",
   "execution_count": 65,
   "metadata": {},
   "outputs": [
    {
     "name": "stdout",
     "output_type": "stream",
     "text": [
      "Collecting pandas\n",
      "  Downloading pandas-2.2.3-cp313-cp313-win_amd64.whl.metadata (19 kB)\n",
      "Collecting numpy>=1.26.0 (from pandas)\n",
      "  Downloading numpy-2.2.2-cp313-cp313-win_amd64.whl.metadata (60 kB)\n",
      "Requirement already satisfied: python-dateutil>=2.8.2 in c:\\users\\nagal\\appdata\\roaming\\python\\python313\\site-packages (from pandas) (2.9.0.post0)\n",
      "Collecting pytz>=2020.1 (from pandas)\n",
      "  Downloading pytz-2025.1-py2.py3-none-any.whl.metadata (22 kB)\n",
      "Collecting tzdata>=2022.7 (from pandas)\n",
      "  Downloading tzdata-2025.1-py2.py3-none-any.whl.metadata (1.4 kB)\n",
      "Requirement already satisfied: six>=1.5 in c:\\users\\nagal\\appdata\\roaming\\python\\python313\\site-packages (from python-dateutil>=2.8.2->pandas) (1.17.0)\n",
      "Downloading pandas-2.2.3-cp313-cp313-win_amd64.whl (11.5 MB)\n",
      "   ---------------------------------------- 0.0/11.5 MB ? eta -:--:--\n",
      "   -- ------------------------------------- 0.8/11.5 MB 5.1 MB/s eta 0:00:03\n",
      "   ------ --------------------------------- 1.8/11.5 MB 5.5 MB/s eta 0:00:02\n",
      "   --------- ------------------------------ 2.6/11.5 MB 4.7 MB/s eta 0:00:02\n",
      "   ----------- ---------------------------- 3.4/11.5 MB 4.3 MB/s eta 0:00:02\n",
      "   ------------ --------------------------- 3.7/11.5 MB 3.8 MB/s eta 0:00:03\n",
      "   ------------- -------------------------- 3.9/11.5 MB 3.4 MB/s eta 0:00:03\n",
      "   ------------- -------------------------- 3.9/11.5 MB 3.4 MB/s eta 0:00:03\n",
      "   ------------------ --------------------- 5.2/11.5 MB 3.2 MB/s eta 0:00:02\n",
      "   --------------------- ------------------ 6.0/11.5 MB 3.3 MB/s eta 0:00:02\n",
      "   ------------------------- -------------- 7.3/11.5 MB 3.6 MB/s eta 0:00:02\n",
      "   ----------------------------- ---------- 8.4/11.5 MB 3.8 MB/s eta 0:00:01\n",
      "   -------------------------------- ------- 9.4/11.5 MB 3.9 MB/s eta 0:00:01\n",
      "   ------------------------------------- -- 10.7/11.5 MB 4.2 MB/s eta 0:00:01\n",
      "   ---------------------------------------- 11.5/11.5 MB 4.2 MB/s eta 0:00:00\n",
      "Downloading numpy-2.2.2-cp313-cp313-win_amd64.whl (12.6 MB)\n",
      "   ---------------------------------------- 0.0/12.6 MB ? eta -:--:--\n",
      "   ---- ----------------------------------- 1.3/12.6 MB 6.2 MB/s eta 0:00:02\n",
      "   ------- -------------------------------- 2.4/12.6 MB 6.4 MB/s eta 0:00:02\n",
      "   ----------- ---------------------------- 3.7/12.6 MB 6.2 MB/s eta 0:00:02\n",
      "   -------------- ------------------------- 4.7/12.6 MB 6.3 MB/s eta 0:00:02\n",
      "   ------------------- -------------------- 6.0/12.6 MB 5.9 MB/s eta 0:00:02\n",
      "   ---------------------- ----------------- 7.1/12.6 MB 6.0 MB/s eta 0:00:01\n",
      "   -------------------------- ------------- 8.4/12.6 MB 6.0 MB/s eta 0:00:01\n",
      "   ------------------------------- -------- 10.0/12.6 MB 6.1 MB/s eta 0:00:01\n",
      "   ---------------------------------- ----- 10.7/12.6 MB 6.0 MB/s eta 0:00:01\n",
      "   ------------------------------------ --- 11.5/12.6 MB 5.8 MB/s eta 0:00:01\n",
      "   ---------------------------------------- 12.6/12.6 MB 5.7 MB/s eta 0:00:00\n",
      "Downloading pytz-2025.1-py2.py3-none-any.whl (507 kB)\n",
      "Downloading tzdata-2025.1-py2.py3-none-any.whl (346 kB)\n",
      "Installing collected packages: pytz, tzdata, numpy, pandas\n",
      "Successfully installed numpy-2.2.2 pandas-2.2.3 pytz-2025.1 tzdata-2025.1\n",
      "Note: you may need to restart the kernel to use updated packages.\n"
     ]
    },
    {
     "name": "stderr",
     "output_type": "stream",
     "text": [
      "  WARNING: The scripts f2py.exe and numpy-config.exe are installed in 'c:\\Users\\nagal\\AppData\\Local\\Programs\\Python\\Python313\\Scripts' which is not on PATH.\n",
      "  Consider adding this directory to PATH or, if you prefer to suppress this warning, use --no-warn-script-location.\n",
      "\n",
      "[notice] A new release of pip is available: 24.3.1 -> 25.0\n",
      "[notice] To update, run: python.exe -m pip install --upgrade pip\n"
     ]
    }
   ],
   "source": [
    "pip install pandas"
   ]
  },
  {
   "cell_type": "code",
   "execution_count": 112,
   "metadata": {},
   "outputs": [],
   "source": [
    "import pandas as pd"
   ]
  },
  {
   "cell_type": "code",
   "execution_count": 137,
   "metadata": {},
   "outputs": [
    {
     "name": "stdout",
     "output_type": "stream",
     "text": [
      "145.45752895752895\n",
      "0     225.000000\n",
      "1      89.000000\n",
      "2     200.000000\n",
      "3      60.000000\n",
      "4      79.000000\n",
      "5     150.000000\n",
      "6      85.000000\n",
      "7      89.000000\n",
      "8     120.000000\n",
      "9     145.457529\n",
      "10    199.000000\n",
      "11     99.000000\n",
      "12    299.000000\n",
      "13    145.457529\n",
      "14     80.000000\n",
      "15     32.000000\n",
      "16    120.000000\n",
      "17     60.000000\n",
      "18     44.000000\n",
      "19    180.000000\n",
      "Name: price, dtype: float64 0     10.0\n",
      "1      1.0\n",
      "2      0.0\n",
      "3     29.0\n",
      "4      2.0\n",
      "5      1.0\n",
      "6      3.0\n",
      "7      4.0\n",
      "8      0.0\n",
      "9      2.0\n",
      "10     1.0\n",
      "11     3.0\n",
      "12     3.0\n",
      "13     1.0\n",
      "14     1.0\n",
      "15     2.0\n",
      "16     2.0\n",
      "17     1.0\n",
      "18     3.0\n",
      "19    10.0\n",
      "Name: minimum_nights, dtype: float64\n"
     ]
    },
    {
     "name": "stderr",
     "output_type": "stream",
     "text": [
      "C:\\Users\\nagal\\AppData\\Local\\Temp\\ipykernel_31128\\2643493700.py:5: FutureWarning: A value is trying to be set on a copy of a DataFrame or Series through chained assignment using an inplace method.\n",
      "The behavior will change in pandas 3.0. This inplace method will never work because the intermediate object on which we are setting values always behaves as a copy.\n",
      "\n",
      "For example, when doing 'df[col].method(value, inplace=True)', try using 'df.method({col: value}, inplace=True)' or df[col] = df[col].method(value) instead, to perform the operation inplace on the original object.\n",
      "\n",
      "\n",
      "  df['price'].fillna(df['price'].mean(),inplace=True)\n",
      "C:\\Users\\nagal\\AppData\\Local\\Temp\\ipykernel_31128\\2643493700.py:7: FutureWarning: A value is trying to be set on a copy of a DataFrame or Series through chained assignment using an inplace method.\n",
      "The behavior will change in pandas 3.0. This inplace method will never work because the intermediate object on which we are setting values always behaves as a copy.\n",
      "\n",
      "For example, when doing 'df[col].method(value, inplace=True)', try using 'df.method({col: value}, inplace=True)' or df[col] = df[col].method(value) instead, to perform the operation inplace on the original object.\n",
      "\n",
      "\n",
      "  df['minimum_nights'].fillna(0,inplace=True)\n"
     ]
    }
   ],
   "source": [
    "df=pd.read_csv(r\"c:\\Users\\nagal\\oneDrive\\Desktop\\data Analysis\\Tableau\\new_york.csv\")\n",
    "#Finding the mean of price column\n",
    "print(df['price'].mean())\n",
    "#filling the mean value with the missing in price column\n",
    "df['price'].fillna(df['price'].mean(),inplace=True)\n",
    "#filling the 0 with the missing values in mimimum_nights column\n",
    "df['minimum_nights'].fillna(0,inplace=True)\n",
    "#print the top 20 values of updated price and min_nights columns\n",
    "print(df['price'].head(20),df['minimum_nights'].head(20))\n",
    "\n",
    "\n"
   ]
  },
  {
   "cell_type": "code",
   "execution_count": null,
   "metadata": {},
   "outputs": [],
   "source": []
  },
  {
   "cell_type": "code",
   "execution_count": null,
   "metadata": {},
   "outputs": [
    {
     "name": "stdout",
     "output_type": "stream",
     "text": [
      "0     225.000000\n",
      "1      89.000000\n",
      "2     200.000000\n",
      "3      60.000000\n",
      "4      79.000000\n",
      "5     150.000000\n",
      "6      85.000000\n",
      "7      89.000000\n",
      "8     120.000000\n",
      "9     145.457529\n",
      "10    199.000000\n",
      "11     99.000000\n",
      "12    299.000000\n",
      "13    145.457529\n",
      "14     80.000000\n",
      "15     32.000000\n",
      "Name: price, dtype: float64\n"
     ]
    }
   ],
   "source": [
    "#df=pd.read_csv(r\"c:\\Users\\nagal\\oneDrive\\Desktop\\data Analysis\\Tableau\\new_york.csv\")\n",
    "#df.fillna(df.mean(),inplace=True)\n",
    "#mean_price=df['price'].mean()\n",
    "#df['price']=df['price'].fillna(mean_price)\n",
    "#print(df['price'].head(16))"
   ]
  },
  {
   "cell_type": "code",
   "execution_count": 117,
   "metadata": {},
   "outputs": [
    {
     "name": "stdout",
     "output_type": "stream",
     "text": [
      "                                           Employees\n",
      "0  {'userId': 'rirani', 'jobTitleName': 'Develope...\n",
      "1  {'userId': 'nirani', 'jobTitleName': 'Develope...\n",
      "2  {'userId': 'thanks', 'jobTitleName': 'Program ...\n"
     ]
    }
   ],
   "source": [
    "#reading the json file\n",
    "df_json=pd.read_json(r\"C:\\Users\\nagal\\Downloads\\data.json\")\n",
    "print(df_json)"
   ]
  },
  {
   "cell_type": "code",
   "execution_count": 120,
   "metadata": {},
   "outputs": [
    {
     "name": "stdout",
     "output_type": "stream",
     "text": [
      "             Utilitatis causa amicitia est quaesita.\n",
      "0  Lorem ipsum dolor sit amet, consectetur adipis...\n",
      "1  Quamquam id quidem licebit iis existimare, qui...\n"
     ]
    }
   ],
   "source": [
    "#reading the text file\n",
    "df_text=pd.read_csv(r\"C:\\Users\\nagal\\Downloads\\text.txt\",delimiter='\\t')\n",
    "print(df_text)"
   ]
  },
  {
   "cell_type": "code",
   "execution_count": 126,
   "metadata": {},
   "outputs": [
    {
     "name": "stdout",
     "output_type": "stream",
     "text": [
      "Collecting openpyxl\n",
      "  Downloading openpyxl-3.1.5-py2.py3-none-any.whl.metadata (2.5 kB)\n",
      "Collecting et-xmlfile (from openpyxl)\n",
      "  Downloading et_xmlfile-2.0.0-py3-none-any.whl.metadata (2.7 kB)\n",
      "Downloading openpyxl-3.1.5-py2.py3-none-any.whl (250 kB)\n",
      "Downloading et_xmlfile-2.0.0-py3-none-any.whl (18 kB)\n",
      "Installing collected packages: et-xmlfile, openpyxl\n",
      "Successfully installed et-xmlfile-2.0.0 openpyxl-3.1.5\n",
      "Note: you may need to restart the kernel to use updated packages.\n"
     ]
    },
    {
     "name": "stderr",
     "output_type": "stream",
     "text": [
      "\n",
      "[notice] A new release of pip is available: 24.3.1 -> 25.0\n",
      "[notice] To update, run: python.exe -m pip install --upgrade pip\n"
     ]
    }
   ],
   "source": [
    "pip install openpyxl\n"
   ]
  },
  {
   "cell_type": "code",
   "execution_count": 132,
   "metadata": {},
   "outputs": [
    {
     "name": "stdout",
     "output_type": "stream",
     "text": [
      "    Unnamed: 0  Unnamed: 1                                         Unnamed: 2  \\\n",
      "0          NaN         NaN                                                NaN   \n",
      "1          NaN         NaN                                                NaN   \n",
      "2          NaN         NaN                                           Week One   \n",
      "3          NaN         NaN                                              Day 1   \n",
      "4          NaN         NaN                                      Introduction    \n",
      "..         ...         ...                                                ...   \n",
      "75         NaN         NaN                                2021-07-02 00:00:00   \n",
      "76         NaN         NaN                       Introduction to Apache NiFi    \n",
      "77         NaN         NaN                    Installing And Configuring NiFi   \n",
      "78         NaN         NaN  Important Concepts: FlowFile, Processor and Co...   \n",
      "79         NaN         NaN                               Nifi example usecase   \n",
      "\n",
      "                          Unnamed: 3           Unnamed: 4  \\\n",
      "0                                NaN                  NaN   \n",
      "1                                NaN                  NaN   \n",
      "2                           Week Two           Week Three   \n",
      "3                              Day 1                Day 1   \n",
      "4   Introduction, and install Hadoop  ZooKeeper explained   \n",
      "..                               ...                  ...   \n",
      "75                               NaN                  NaN   \n",
      "76                               NaN                  NaN   \n",
      "77                               NaN                  NaN   \n",
      "78                               NaN                  NaN   \n",
      "79                               NaN                  NaN   \n",
      "\n",
      "                                           Unnamed: 5  \\\n",
      "0                                                 NaN   \n",
      "1                                                 NaN   \n",
      "2                                           Week Four   \n",
      "3                                               Day 1   \n",
      "4   Spark Streaming concepts(DStream, Spark struct...   \n",
      "..                                                ...   \n",
      "75                                                NaN   \n",
      "76                                                NaN   \n",
      "77                                                NaN   \n",
      "78                                                NaN   \n",
      "79                                                NaN   \n",
      "\n",
      "                                           Unnamed: 6  \\\n",
      "0                                                 NaN   \n",
      "1                                                 NaN   \n",
      "2                                           Week Five   \n",
      "3   Airflow Installation, Airflow Webserver,Airflo...   \n",
      "4         Airflow executors,Airflow Xcom,Airflow hook   \n",
      "..                                                ...   \n",
      "75                                                NaN   \n",
      "76                                                NaN   \n",
      "77                                                NaN   \n",
      "78                                                NaN   \n",
      "79                                                NaN   \n",
      "\n",
      "                                           Unnamed: 7  \\\n",
      "0                                                 NaN   \n",
      "1                                                 NaN   \n",
      "2                                            Week Six   \n",
      "3                                               Day 1   \n",
      "4   AWS cloud Introduction,AWS account creation, c...   \n",
      "..                                                ...   \n",
      "75                                                NaN   \n",
      "76                                                NaN   \n",
      "77                                                NaN   \n",
      "78                                                NaN   \n",
      "79                                                NaN   \n",
      "\n",
      "                    Unnamed: 8  \n",
      "0                          NaN  \n",
      "1                          NaN  \n",
      "2                   Week Seven  \n",
      "3                        Day 1  \n",
      "4   Capstone Project Selection  \n",
      "..                         ...  \n",
      "75                         NaN  \n",
      "76                         NaN  \n",
      "77                         NaN  \n",
      "78                         NaN  \n",
      "79                         NaN  \n",
      "\n",
      "[80 rows x 9 columns]\n"
     ]
    }
   ],
   "source": [
    "df_excel=pd.read_excel(r\"C:\\Users\\nagal\\Downloads\\Syllabus2022-Hadoop-Spark-AWS-DEVOPS1 (2).xlsx\")\n",
    "print(df_excel)"
   ]
  },
  {
   "cell_type": "code",
   "execution_count": 129,
   "metadata": {},
   "outputs": [],
   "source": [
    "import re"
   ]
  },
  {
   "cell_type": "code",
   "execution_count": 136,
   "metadata": {},
   "outputs": [
    {
     "data": {
      "text/html": [
       "<div>\n",
       "<style scoped>\n",
       "    .dataframe tbody tr th:only-of-type {\n",
       "        vertical-align: middle;\n",
       "    }\n",
       "\n",
       "    .dataframe tbody tr th {\n",
       "        vertical-align: top;\n",
       "    }\n",
       "\n",
       "    .dataframe thead th {\n",
       "        text-align: right;\n",
       "    }\n",
       "</style>\n",
       "<table border=\"1\" class=\"dataframe\">\n",
       "  <thead>\n",
       "    <tr style=\"text-align: right;\">\n",
       "      <th></th>\n",
       "      <th>neighbourhood</th>\n",
       "      <th>Cleaned_Names</th>\n",
       "    </tr>\n",
       "  </thead>\n",
       "  <tbody>\n",
       "    <tr>\n",
       "      <th>0</th>\n",
       "      <td>Midtown</td>\n",
       "      <td>Midtown</td>\n",
       "    </tr>\n",
       "    <tr>\n",
       "      <th>1</th>\n",
       "      <td>Brooklyn</td>\n",
       "      <td>Brooklyn</td>\n",
       "    </tr>\n",
       "    <tr>\n",
       "      <th>2</th>\n",
       "      <td>&amp;%#@</td>\n",
       "      <td></td>\n",
       "    </tr>\n",
       "    <tr>\n",
       "      <th>3</th>\n",
       "      <td>Bedford-Stuyvesant</td>\n",
       "      <td>BedfordStuyvesant</td>\n",
       "    </tr>\n",
       "    <tr>\n",
       "      <th>4</th>\n",
       "      <td>1234</td>\n",
       "      <td></td>\n",
       "    </tr>\n",
       "  </tbody>\n",
       "</table>\n",
       "</div>"
      ],
      "text/plain": [
       "        neighbourhood      Cleaned_Names\n",
       "0             Midtown            Midtown\n",
       "1            Brooklyn           Brooklyn\n",
       "2                &%#@                   \n",
       "3  Bedford-Stuyvesant  BedfordStuyvesant\n",
       "4                1234                   "
      ]
     },
     "execution_count": 136,
     "metadata": {},
     "output_type": "execute_result"
    }
   ],
   "source": [
    "df[\"Cleaned_Names\"] = df[\"neighbourhood\"].str.replace(r\"[^a-zA-Z\\s]\", \"\", regex=True)\n",
    "\n",
    "# Display cleaned names\n",
    "df[[\"neighbourhood\", \"Cleaned_Names\"]].head()"
   ]
  },
  {
   "cell_type": "code",
   "execution_count": 157,
   "metadata": {},
   "outputs": [
    {
     "name": "stdout",
     "output_type": "stream",
     "text": [
      "Processed CSV file saved.\n"
     ]
    }
   ],
   "source": [
    "df=pd.read_csv(r\"c:\\Users\\nagal\\oneDrive\\Desktop\\data Analysis\\Tableau\\new_york.csv\")\n",
    "df[\"Cleaned_Names\"] = df[\"neighbourhood\"].str.replace(r\"[^a-zA-Z\\s]\", \"\", regex=True)\n",
    "\n",
    "# Display cleaned names\n",
    "df[[\"neighbourhood\", \"Cleaned_Names\"]].head()\n",
    "df[\"Extracted_phones\"]=df[\"phonenumber\"].apply(lambda x: re.findall(r\"\\d+\", str(x)))\n",
    "df[[\"phonenumber\",\"Extracted_phones\"]].head(10)\n",
    "#dropping a column\n",
    "df=df.drop(columns=[\"phonenumber\"])\n",
    "#adding column\n",
    "df[\"Category\"] = df[\"price\"].apply(lambda x: \"Expensive\" if x > 100 else \"Cheap\" )\n",
    "df.to_csv(r\"c:\\Users\\nagal\\oneDrive\\Desktop\\data Analysis\\Tableau\\processed_new_york.csv\", index=False)\n",
    "print(\"Processed CSV file saved.\")"
   ]
  },
  {
   "cell_type": "code",
   "execution_count": 158,
   "metadata": {},
   "outputs": [],
   "source": [
    "#Covert Json file to csv\n",
    "df=pd.read_json(r\"c:\\Users\\nagal\\Downloads\\data.json\")\n",
    "df.to_csv(r\"c:\\Users\\nagal\\Downloads\\data.json\")"
   ]
  },
  {
   "cell_type": "code",
   "execution_count": 161,
   "metadata": {},
   "outputs": [],
   "source": [
    "#Convert csv file to json\n",
    "df=pd.read_csv(r\"C:\\Users\\nagal\\OneDrive\\Desktop\\Data Analysis\\Tableau\\new_york.csv\")\n",
    "df.to_json(r\"C:\\Users\\nagal\\OneDrive\\Desktop\\Data Analysis\\Tableau\\new_york.json\",orient=\"records\",indent=4)"
   ]
  },
  {
   "cell_type": "code",
   "execution_count": 3,
   "metadata": {},
   "outputs": [
    {
     "name": "stdout",
     "output_type": "stream",
     "text": [
      "10\n"
     ]
    }
   ],
   "source": [
    "number=[1,2,3,4,5]\n",
    "number[-1]=10\n",
    "print(number[-1])\n"
   ]
  }
 ],
 "metadata": {
  "kernelspec": {
   "display_name": "Python 3",
   "language": "python",
   "name": "python3"
  },
  "language_info": {
   "codemirror_mode": {
    "name": "ipython",
    "version": 3
   },
   "file_extension": ".py",
   "mimetype": "text/x-python",
   "name": "python",
   "nbconvert_exporter": "python",
   "pygments_lexer": "ipython3",
   "version": "3.13.1"
  }
 },
 "nbformat": 4,
 "nbformat_minor": 2
}
