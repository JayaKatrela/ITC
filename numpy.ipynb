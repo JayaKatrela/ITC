{
 "cells": [
  {
   "cell_type": "code",
   "execution_count": 1,
   "metadata": {},
   "outputs": [
    {
     "name": "stdout",
     "output_type": "stream",
     "text": [
      "Requirement already satisfied: Numpy in c:\\users\\nagal\\appdata\\local\\programs\\python\\python313\\lib\\site-packages (2.2.2)\n",
      "Note: you may need to restart the kernel to use updated packages.\n"
     ]
    },
    {
     "name": "stderr",
     "output_type": "stream",
     "text": [
      "\n",
      "[notice] A new release of pip is available: 24.3.1 -> 25.0.1\n",
      "[notice] To update, run: python.exe -m pip install --upgrade pip\n"
     ]
    }
   ],
   "source": [
    "pip install Numpy"
   ]
  },
  {
   "cell_type": "markdown",
   "metadata": {},
   "source": [
    "Arrays"
   ]
  },
  {
   "cell_type": "code",
   "execution_count": 2,
   "metadata": {},
   "outputs": [
    {
     "name": "stdout",
     "output_type": "stream",
     "text": [
      "array: [1 2 3 4 5]\n",
      "shape: (5,)\n"
     ]
    }
   ],
   "source": [
    "import numpy as np\n",
    "oneD=np.array([1,2,3,4,5])\n",
    "print(\"array:\", oneD)\n",
    "print(\"shape:\", oneD.shape)"
   ]
  },
  {
   "cell_type": "code",
   "execution_count": 3,
   "metadata": {},
   "outputs": [
    {
     "name": "stdout",
     "output_type": "stream",
     "text": [
      "array:\n",
      " [[1 2 3]\n",
      " [4 5 6]\n",
      " [7 8 9]]\n",
      "shape: (3, 3)\n"
     ]
    }
   ],
   "source": [
    "twoD=np.array([[1,2,3],[4,5,6],[7,8,9]])\n",
    "print(\"array:\\n\",twoD)\n",
    "print(\"shape:\", twoD.shape)"
   ]
  },
  {
   "cell_type": "code",
   "execution_count": 4,
   "metadata": {},
   "outputs": [
    {
     "name": "stdout",
     "output_type": "stream",
     "text": [
      "array:\n",
      " [[[1 2]\n",
      "  [3 4]]\n",
      "\n",
      " [[5 6]\n",
      "  [7 8]]]\n",
      "shape: (2, 2, 2)\n"
     ]
    }
   ],
   "source": [
    "threeD=np.array([[[1,2],[3,4]],[[5,6],[7,8]]])\n",
    "print(\"array:\\n\",threeD)\n",
    "print(\"shape:\",threeD.shape)"
   ]
  },
  {
   "cell_type": "markdown",
   "metadata": {},
   "source": [
    "List,tuples in Arrays"
   ]
  },
  {
   "cell_type": "code",
   "execution_count": 5,
   "metadata": {},
   "outputs": [
    {
     "name": "stdout",
     "output_type": "stream",
     "text": [
      "[1 2 3 4 5]\n"
     ]
    }
   ],
   "source": [
    "list_data=[1,2,3,4,5]\n",
    "array_frm_lst=np.array(list_data)\n",
    "print(array_frm_lst)"
   ]
  },
  {
   "cell_type": "code",
   "execution_count": 7,
   "metadata": {},
   "outputs": [
    {
     "name": "stdout",
     "output_type": "stream",
     "text": [
      "[1 2 3 4 5]\n"
     ]
    }
   ],
   "source": [
    "tuple_data=(1,2,3,4,5)\n",
    "array_frm_tpl=np.array(tuple_data)\n",
    "print(array_frm_tpl)\n"
   ]
  },
  {
   "cell_type": "code",
   "execution_count": 6,
   "metadata": {},
   "outputs": [
    {
     "name": "stdout",
     "output_type": "stream",
     "text": [
      "[1 2 3 4 5]\n",
      "Using copy method: [1 2 3 4 5]\n"
     ]
    }
   ],
   "source": [
    "source_array=np.array([1,2,3,4,5])\n",
    "#creates seprate copy\n",
    "new_array=np.array(source_array) \n",
    "print(new_array)\n",
    "\n",
    "# .copy() method to explicitly copy an array\n",
    "copy_array=source_array.copy()\n",
    "print(\"Using copy method:\", copy_array)"
   ]
  },
  {
   "cell_type": "code",
   "execution_count": 8,
   "metadata": {},
   "outputs": [
    {
     "name": "stdout",
     "output_type": "stream",
     "text": [
      "[ 1  6 11]\n"
     ]
    }
   ],
   "source": [
    "range_array=np.arange(1,15,5) #(start,upto,step)\n",
    "print(range_array)"
   ]
  },
  {
   "cell_type": "code",
   "execution_count": null,
   "metadata": {},
   "outputs": [
    {
     "name": "stdout",
     "output_type": "stream",
     "text": [
      "[1.   2.25 3.5  4.75 6.  ]\n"
     ]
    }
   ],
   "source": [
    "linspace_array=np.linspace(1,6,5) # 5 values between 1 and 5\n",
    "print(linspace_array)"
   ]
  },
  {
   "cell_type": "code",
   "execution_count": 11,
   "metadata": {},
   "outputs": [
    {
     "name": "stdout",
     "output_type": "stream",
     "text": [
      "[[0.83877484 0.39805731 0.64760125]\n",
      " [0.42674609 0.97287529 0.53617223]\n",
      " [0.61105753 0.39749962 0.47545539]]\n",
      "integer Randon Array [[0 3 3]\n",
      " [3 0 0]\n",
      " [2 2 1]]\n"
     ]
    }
   ],
   "source": [
    "random_array=np.random.rand(3,3) \n",
    "#rand generate float-point numbers\n",
    "print(random_array)\n",
    "\n",
    "random_array=np.random.randint(0,5,(3,3))\n",
    "print(\"integer Randon Array\", random_array)"
   ]
  },
  {
   "cell_type": "code",
   "execution_count": 12,
   "metadata": {},
   "outputs": [
    {
     "name": "stdout",
     "output_type": "stream",
     "text": [
      "Zeros Array: [[0. 0. 0.]\n",
      " [0. 0. 0.]\n",
      " [0. 0. 0.]]\n",
      "Ones Array: [[1. 1. 1. 1. 1.]\n",
      " [1. 1. 1. 1. 1.]]\n",
      "Identity Matrix: [[1. 0. 0.]\n",
      " [0. 1. 0.]\n",
      " [0. 0. 1.]]\n"
     ]
    }
   ],
   "source": [
    "#np.zeros(shape)\n",
    "#np.ones(shape)\n",
    "#np.eye(size)\n",
    "# np.zeros() and np.ones() expects the shape as a tuple (3,3), not separate arguments\n",
    "zero_array=np.zeros((3,3))\n",
    "print(\"Zeros Array:\",zero_array)\n",
    "one_array=np.ones((2,5))\n",
    "print(\"Ones Array:\",one_array)\n",
    "identity_matrix=np.eye(3)\n",
    "print(\"Identity Matrix:\",identity_matrix)"
   ]
  },
  {
   "cell_type": "markdown",
   "metadata": {},
   "source": [
    "Indexing & Slicing"
   ]
  },
  {
   "cell_type": "code",
   "execution_count": 13,
   "metadata": {},
   "outputs": [
    {
     "name": "stdout",
     "output_type": "stream",
     "text": [
      "1\n",
      "3\n",
      "5\n"
     ]
    }
   ],
   "source": [
    "# 1D array indexing\n",
    "array=np.array([1,2,3,4,5])\n",
    "print(array[0]) # 1st element\n",
    "print(array[2]) # 3rd element\n",
    "print(array[-1]) # last element"
   ]
  },
  {
   "cell_type": "code",
   "execution_count": 14,
   "metadata": {},
   "outputs": [
    {
     "name": "stdout",
     "output_type": "stream",
     "text": [
      "2d matrix: [1 2 3 4 5]\n",
      "[1 2 2]\n",
      "1\n",
      "1\n",
      "1\n"
     ]
    }
   ],
   "source": [
    "twoDarray=np.random.randint(1,3,(3,3))\n",
    "print(\"2d matrix:\", array)\n",
    "print(twoDarray[0])\n",
    "print(twoDarray[1,2]) # element at row index 1, column index 2\n",
    "print(twoDarray[0,0]) # 1st element\n",
    "print(twoDarray[-1,-1]) # last element"
   ]
  },
  {
   "cell_type": "code",
   "execution_count": 15,
   "metadata": {},
   "outputs": [
    {
     "name": "stdout",
     "output_type": "stream",
     "text": [
      "(2, 2, 3)\n",
      "6\n"
     ]
    }
   ],
   "source": [
    "threeDarray = np.array([[[1, 2, 3], [4, 5, 6]], \n",
    "                   [[7, 8, 9], [10, 11, 12]]])\n",
    "print(threeDarray.shape)\n",
    "print(threeDarray[0,1,2]) # 1st dept, 2nd row, 3rd column"
   ]
  },
  {
   "cell_type": "code",
   "execution_count": 16,
   "metadata": {},
   "outputs": [
    {
     "name": "stdout",
     "output_type": "stream",
     "text": [
      "[2 3 4]\n",
      "[1 2 3]\n",
      "[4 5]\n",
      "[1 3 5]\n",
      "[5 4 3 2 1]\n"
     ]
    }
   ],
   "source": [
    "#1D array slicing\n",
    "array=np.array([1,2,3,4,5])\n",
    "print(array[1:4]) # elements from index 1 to 3\n",
    "print(array[:3]) # upto 2\n",
    "print(array[3:])# from 3 to end\n",
    "print(array[::2])# every 2nd element\n",
    "print(array[::-1])# reverse"
   ]
  },
  {
   "cell_type": "code",
   "execution_count": 17,
   "metadata": {},
   "outputs": [
    {
     "name": "stdout",
     "output_type": "stream",
     "text": [
      "[[2 3]\n",
      " [5 6]]\n",
      "[1 4 7]\n",
      "[1 2 3]\n",
      "[[9 8 7]\n",
      " [6 5 4]\n",
      " [3 2 1]]\n",
      "[[7 8 9]\n",
      " [4 5 6]\n",
      " [1 2 3]]\n",
      "[[3 2 1]\n",
      " [6 5 4]\n",
      " [9 8 7]]\n"
     ]
    }
   ],
   "source": [
    "#2D array slicing -- slice rows & columns seperately\n",
    "twoarray=np.array([[1, 2, 3], \n",
    "                   [4, 5, 6], \n",
    "                   [7, 8, 9]])\n",
    "print(twoarray[:2,1:])# first 2 rows, column from index 1 onwards\n",
    "print(twoarray[:,0]) # first column\n",
    "print(twoarray[0,:])# first row\n",
    "print(twoarray[::-1,::-1]) # reverse the matrix\n",
    "print(twoarray[::-1,])#reverse the row\n",
    "print(twoarray[:,::-1])#reverse the column"
   ]
  },
  {
   "cell_type": "code",
   "execution_count": 18,
   "metadata": {},
   "outputs": [
    {
     "name": "stdout",
     "output_type": "stream",
     "text": [
      "[[[ 1  2  3]\n",
      "  [ 4  5  6]\n",
      "  [ 7  8  9]]\n",
      "\n",
      " [[10 11 12]\n",
      "  [13 14 15]\n",
      "  [16 17 18]]]\n",
      "[4 5 6]\n",
      "[[[1 2 3]\n",
      "  [4 5 6]\n",
      "  [7 8 9]]]\n",
      "[[[ 2  3]\n",
      "  [ 5  6]]\n",
      "\n",
      " [[11 12]\n",
      "  [14 15]]]\n"
     ]
    }
   ],
   "source": [
    "threeDarray=np.array([[[1, 2, 3], [4, 5, 6], [7, 8, 9]], \n",
    "                      [[10, 11, 12], [13, 14, 15], [16, 17, 18]]])\n",
    "print(threeDarray)\n",
    "print(threeDarray[0,1,:])#1st depth, 2nd row, all column\n",
    "print(threeDarray[:1,:,:])#frist depth, all rows, all columns\n",
    "print(threeDarray[:,0:2,1:3])#both depth, 1st and 2nd row, 2nd and 3rd column"
   ]
  },
  {
   "cell_type": "code",
   "execution_count": 19,
   "metadata": {},
   "outputs": [
    {
     "name": "stdout",
     "output_type": "stream",
     "text": [
      "[3 4 5]\n"
     ]
    }
   ],
   "source": [
    "arr=np.array([1,2,3,4,5])\n",
    "print(arr[arr>2]) "
   ]
  },
  {
   "cell_type": "code",
   "execution_count": null,
   "metadata": {},
   "outputs": [],
   "source": [
    "Arthematic Operations"
   ]
  },
  {
   "cell_type": "code",
   "execution_count": 20,
   "metadata": {},
   "outputs": [
    {
     "name": "stdout",
     "output_type": "stream",
     "text": [
      "[11 22 33 44 55]\n",
      "[ 9 18 27 36 45]\n",
      "[ 10  40  90 160 250]\n",
      "[0.1 0.1 0.1 0.1 0.1]\n",
      "[ 6  7  8  9 10]\n",
      "[ 5 10 15 20 25]\n"
     ]
    }
   ],
   "source": [
    "#using direct operation\n",
    "a=np.array([1,2,3,4,5])\n",
    "b=np.array([10,20,30,40,50])\n",
    "\n",
    "print(a+b)\n",
    "print(b-a)\n",
    "print(a*b)\n",
    "print(a/b)\n",
    "\n",
    "# Scalar Operations\n",
    "print(a+5)\n",
    "print(a*5)"
   ]
  },
  {
   "cell_type": "code",
   "execution_count": 21,
   "metadata": {},
   "outputs": [
    {
     "name": "stdout",
     "output_type": "stream",
     "text": [
      "[11 22 33 44 55]\n"
     ]
    }
   ],
   "source": [
    "#using function\n",
    "a=np.array([1,2,3,4,5])\n",
    "b=np.array([10,20,30,40,50])\n",
    "c=np.add(a,b)\n",
    "print(c)"
   ]
  },
  {
   "cell_type": "code",
   "execution_count": 22,
   "metadata": {},
   "outputs": [
    {
     "name": "stdout",
     "output_type": "stream",
     "text": [
      "[ 1  4  9 16 25]\n",
      "[1 2 0 1 2]\n",
      "[0 0 1 1 1]\n"
     ]
    }
   ],
   "source": [
    "print(a**2) #square each element\n",
    "print(a%3) #Modulus operation\n",
    "print(a//3) #floor division "
   ]
  },
  {
   "cell_type": "code",
   "execution_count": 23,
   "metadata": {},
   "outputs": [
    {
     "name": "stdout",
     "output_type": "stream",
     "text": [
      "15\n",
      "3.0\n",
      "3.0\n",
      "1\n",
      "5\n"
     ]
    }
   ],
   "source": [
    "print(np.sum(a)) # sum of all elements\n",
    "print(np.mean(a))\n",
    "print(np.median(a))\n",
    "print(np.min(a))\n",
    "print(np.max(a))"
   ]
  },
  {
   "cell_type": "code",
   "execution_count": 24,
   "metadata": {},
   "outputs": [
    {
     "name": "stdout",
     "output_type": "stream",
     "text": [
      "[12 15 18]\n",
      "[ 6 15 24]\n"
     ]
    }
   ],
   "source": [
    "matrix=np.array([[1,2,3],[4,5,6],[7,8,9]])\n",
    "print(np.sum(matrix, axis=0)) # sum of all columns\n",
    "print(np.sum(matrix, axis=1)) # sum of all rows"
   ]
  },
  {
   "cell_type": "code",
   "execution_count": 25,
   "metadata": {},
   "outputs": [
    {
     "name": "stdout",
     "output_type": "stream",
     "text": [
      "[[11 12 13]\n",
      " [14 15 16]]\n"
     ]
    }
   ],
   "source": [
    "#same size arrays\n",
    "array=np.array([[1,2,3],[4,5,6]])\n",
    "print(array+10) # adds 10 to each element"
   ]
  },
  {
   "cell_type": "code",
   "execution_count": 26,
   "metadata": {},
   "outputs": [
    {
     "name": "stdout",
     "output_type": "stream",
     "text": [
      "[[11 21 31]\n",
      " [12 22 32]\n",
      " [13 23 33]]\n"
     ]
    }
   ],
   "source": [
    "arr1=np.array([[1],[2],[3]]) #shape(3,1)\n",
    "arr2=np.array([10,20,30]) #shape(3,)\n",
    "print(arr1+arr2)\n",
    "# The broadcasting rules are:\n",
    "# 1.If the two arrays have different dimensions, NumPy automatically expands the smaller array’s shape.\n",
    "#2.If a dimension has size 1, NumPy duplicates its values along that dimension to match the larger array."
   ]
  },
  {
   "cell_type": "markdown",
   "metadata": {},
   "source": [
    "Array Sahpe Change"
   ]
  },
  {
   "cell_type": "code",
   "execution_count": 27,
   "metadata": {},
   "outputs": [
    {
     "name": "stdout",
     "output_type": "stream",
     "text": [
      "[[1 2 3]\n",
      " [4 5 6]]\n",
      "[[1 2]\n",
      " [3 4]\n",
      " [5 6]]\n"
     ]
    }
   ],
   "source": [
    "#reshape()--function allows us to change the shape of an array without modifying its data\n",
    "arr = np.array([1, 2, 3, 4, 5, 6])\n",
    "reshaped_arr = arr.reshape(2, 3)  # Convert from (6,) to (2,3)\n",
    "print(reshaped_arr)\n",
    "arr = arr.reshape(3, -1)\n",
    "print(arr)"
   ]
  },
  {
   "cell_type": "code",
   "execution_count": 29,
   "metadata": {},
   "outputs": [
    {
     "name": "stdout",
     "output_type": "stream",
     "text": [
      "[1 2 3 4 5 6]\n"
     ]
    }
   ],
   "source": [
    "# ravel() - Flatteninf an array\n",
    "# Converts a multi-dimensional array into a 1D array.\n",
    "arr = np.array([[1, 2, 3], [4, 5, 6]])\n",
    "flattened = arr.ravel()\n",
    "print(flattened)"
   ]
  },
  {
   "cell_type": "code",
   "execution_count": 30,
   "metadata": {},
   "outputs": [
    {
     "name": "stdout",
     "output_type": "stream",
     "text": [
      "[[1 4]\n",
      " [2 5]\n",
      " [3 6]]\n"
     ]
    }
   ],
   "source": [
    "# transpose() – Swap Axes of an Array\n",
    "transposed = arr.T\n",
    "print(transposed)"
   ]
  },
  {
   "cell_type": "code",
   "execution_count": 31,
   "metadata": {},
   "outputs": [
    {
     "name": "stdout",
     "output_type": "stream",
     "text": [
      "[[[1 2]\n",
      "  [3 4]]\n",
      "\n",
      " [[5 6]\n",
      "  [7 8]]]\n",
      "[[[1 2]\n",
      "  [5 6]]\n",
      "\n",
      " [[3 4]\n",
      "  [7 8]]]\n",
      "(2, 2, 2)\n"
     ]
    }
   ],
   "source": [
    "# swapaxes() – Swap Any Two Axes\n",
    "arr = np.array([[[1, 2], [3, 4]], [[5, 6], [7, 8]]])  # Shape (2,2,2)\n",
    "print(arr)\n",
    "swapped = arr.swapaxes(0, 1)\n",
    "print(swapped)\n",
    "print(swapped.shape)  # (2,2,2) → (2,2,2) (axes 0 & 1 swapped)"
   ]
  },
  {
   "cell_type": "code",
   "execution_count": 32,
   "metadata": {},
   "outputs": [
    {
     "name": "stdout",
     "output_type": "stream",
     "text": [
      "[[1 2 3 4]\n",
      " [5 6 0 0]]\n"
     ]
    }
   ],
   "source": [
    "# resize() – Change Size with Possible Data Loss\n",
    "arr = np.array([1, 2, 3, 4, 5, 6])\n",
    "arr.resize((2, 4))  # Expands the shape, fills extra values with 0\n",
    "print(arr)"
   ]
  },
  {
   "cell_type": "code",
   "execution_count": 33,
   "metadata": {},
   "outputs": [
    {
     "name": "stdout",
     "output_type": "stream",
     "text": [
      "(1, 3)\n"
     ]
    }
   ],
   "source": [
    "# expand_dims() – Add an Extra Dimension\n",
    "arr = np.array([1, 2, 3])\n",
    "expanded = np.expand_dims(arr, axis=0)  # Convert (3,) → (1, 3)\n",
    "print(expanded.shape)  # Output: (1,3)"
   ]
  },
  {
   "cell_type": "code",
   "execution_count": 34,
   "metadata": {},
   "outputs": [
    {
     "name": "stdout",
     "output_type": "stream",
     "text": [
      "(3,)\n"
     ]
    }
   ],
   "source": [
    "# squeeze() – Remove Extra Dimensions\n",
    "arr = np.array([[[1, 2, 3]]])  # Shape (1,1,3)\n",
    "squeezed = arr.squeeze()\n",
    "print(squeezed.shape) "
   ]
  },
  {
   "cell_type": "code",
   "execution_count": 35,
   "metadata": {},
   "outputs": [
    {
     "name": "stdout",
     "output_type": "stream",
     "text": [
      "[[1 2 5 6]]\n",
      "[[1 2]\n",
      " [5 6]]\n"
     ]
    }
   ],
   "source": [
    "# concatenate() – Join Arrays Along an Axis\n",
    "a = np.array([[1, 2]])\n",
    "b = np.array([[5, 6]])\n",
    "Colcon = np.concatenate((a, b), axis=1)\n",
    "print(Colcon)\n",
    "rowcon = np.concatenate((a, b), axis=0)\n",
    "print(rowcon)"
   ]
  }
 ],
 "metadata": {
  "kernelspec": {
   "display_name": "Python 3",
   "language": "python",
   "name": "python3"
  },
  "language_info": {
   "codemirror_mode": {
    "name": "ipython",
    "version": 3
   },
   "file_extension": ".py",
   "mimetype": "text/x-python",
   "name": "python",
   "nbconvert_exporter": "python",
   "pygments_lexer": "ipython3",
   "version": "3.13.1"
  }
 },
 "nbformat": 4,
 "nbformat_minor": 2
}
